{
 "cells": [
  {
   "cell_type": "code",
   "execution_count": 19,
   "metadata": {},
   "outputs": [
    {
     "name": "stdout",
     "output_type": "stream",
     "text": [
      "Metrics for: detection_results_all_cases05.01.csv\n",
      "Accuracy:  0.6333333333333333\n",
      "Precision: 0.6129032258064516\n",
      "Recall:    0.6993865030674846\n",
      "F1 Score:  0.6532951289398281\n"
     ]
    }
   ],
   "source": [
    "import pandas as pd\n",
    "from sklearn.metrics import accuracy_score, precision_score, recall_score, f1_score\n",
    "\n",
    "# Load your CSV file\n",
    "file_path = \"\"  # Replace with the correct file path\n",
    "detection_data = pd.read_csv(file_path)\n",
    "\n",
    "# Directly use the boolean columns as they are already binary (True = 1, False = 0)\n",
    "y_pred = detection_data['Detection'] # Make sure the column name is correct\n",
    "y_true = detection_data['Expected Detection'] # Make sure the column name is correct\n",
    "\n",
    "# Calculate metrics\n",
    "accuracy = accuracy_score(y_true, y_pred)\n",
    "precision = precision_score(y_true, y_pred)\n",
    "recall = recall_score(y_true, y_pred)\n",
    "f1 = f1_score(y_true, y_pred)\n",
    "\n",
    "# Print metrics\n",
    "print(\"Metrics for:\", file_path)\n",
    "print(\"Accuracy: \", accuracy)\n",
    "print(\"Precision:\", precision)\n",
    "print(\"Recall:   \", recall)\n",
    "print(\"F1 Score: \", f1)"
   ]
  }
 ],
 "metadata": {
  "kernelspec": {
   "display_name": "env",
   "language": "python",
   "name": "python3"
  },
  "language_info": {
   "codemirror_mode": {
    "name": "ipython",
    "version": 3
   },
   "file_extension": ".py",
   "mimetype": "text/x-python",
   "name": "python",
   "nbconvert_exporter": "python",
   "pygments_lexer": "ipython3",
   "version": "3.13.1"
  }
 },
 "nbformat": 4,
 "nbformat_minor": 2
}
