{
 "cells": [
  {
   "cell_type": "code",
   "execution_count": 11,
   "metadata": {},
   "outputs": [],
   "source": [
    "import os\n",
    "from langchain_google_vertexai import ChatVertexAI\n",
    "from langchain_core.messages import HumanMessage, SystemMessage\n",
    "from langchain_core.output_parsers import StrOutputParser\n",
    "from langchain_core.prompts import ChatPromptTemplate\n",
    "\n",
    "google_api_key=os.getenv(\"GOOGLE_API_KEY_LANGCHAIN\")\n",
    "\n",
    "model = ChatVertexAI(model=\"gemini-1.5-flash\",project=\"langchainproject-436415\")\n",
    "parser = StrOutputParser()\n",
    "context = []"
   ]
  },
  {
   "cell_type": "code",
   "execution_count": 12,
   "metadata": {},
   "outputs": [],
   "source": [
    "def get_response(query, context):\n",
    "    # Create the context prompt by joining the previous interactions\n",
    "    context_prompt = \"\\n\".join(context)  \n",
    "    # Prepare the full prompt with context\n",
    "    prompt_template = (\n",
    "        f\"Conversation History:\\n\\n{context_prompt}.\\n\\n Please answer the following question:\\n\\n{query}\"\n",
    "    ) \n",
    "    # Get response from the model\n",
    "    if context_prompt == \"\":\n",
    "        response = model.invoke(query)\n",
    "        print(\"Prompt: \", query)\n",
    "    else:\n",
    "        response = model.invoke(prompt_template)\n",
    "        print(\"Prompt: \", prompt_template) \n",
    "    # Update context\n",
    "    context.append(f\"User: {query}\")\n",
    "    context.append(f\"AI: {response}\")   \n",
    "    return response"
   ]
  },
  {
   "cell_type": "code",
   "execution_count": 13,
   "metadata": {},
   "outputs": [
    {
     "name": "stdout",
     "output_type": "stream",
     "text": [
      "Prompt:  What's the capital of France?\n",
      "Answer: The capital of France is **Paris**. \n",
      "\n",
      "Prompt:  Conversation History:\n",
      "\n",
      "User: What's the capital of France?\n",
      "AI: content='The capital of France is **Paris**. \\n' additional_kwargs={} response_metadata={'is_blocked': False, 'safety_ratings': [{'category': 'HARM_CATEGORY_HATE_SPEECH', 'probability_label': 'NEGLIGIBLE', 'blocked': False, 'severity': 'HARM_SEVERITY_NEGLIGIBLE'}, {'category': 'HARM_CATEGORY_DANGEROUS_CONTENT', 'probability_label': 'NEGLIGIBLE', 'blocked': False, 'severity': 'HARM_SEVERITY_NEGLIGIBLE'}, {'category': 'HARM_CATEGORY_HARASSMENT', 'probability_label': 'NEGLIGIBLE', 'blocked': False, 'severity': 'HARM_SEVERITY_NEGLIGIBLE'}, {'category': 'HARM_CATEGORY_SEXUALLY_EXPLICIT', 'probability_label': 'NEGLIGIBLE', 'blocked': False, 'severity': 'HARM_SEVERITY_NEGLIGIBLE'}], 'usage_metadata': {'prompt_token_count': 8, 'candidates_token_count': 10, 'total_token_count': 18, 'cached_content_token_count': 0}, 'finish_reason': 'STOP'} id='run-1a75f11d-5706-44d0-8e13-6324cbc2d7f6-0' usage_metadata={'input_tokens': 8, 'output_tokens': 10, 'total_tokens': 18}.\n",
      "\n",
      " Please answer the following question:\n",
      "\n",
      "What is the population of that city?\n",
      "Answer: The population of Paris is approximately **2.14 million**. \n",
      "\n",
      "Keep in mind that this is just the population of the city of Paris itself, not the entire Paris metropolitan area. The metropolitan area, which includes suburbs, has a population of over 12 million. \n",
      "\n"
     ]
    }
   ],
   "source": [
    "response1 = get_response(\"What's the capital of France?\", context)\n",
    "print(\"Answer:\",parser.invoke(response1))\n",
    "response2 = get_response(\"What is the population of that city?\", context)\n",
    "print(\"Answer:\",parser.invoke(response2))\n"
   ]
  }
 ],
 "metadata": {
  "kernelspec": {
   "display_name": "my_env",
   "language": "python",
   "name": "python3"
  },
  "language_info": {
   "codemirror_mode": {
    "name": "ipython",
    "version": 3
   },
   "file_extension": ".py",
   "mimetype": "text/x-python",
   "name": "python",
   "nbconvert_exporter": "python",
   "pygments_lexer": "ipython3",
   "version": "3.12.6"
  }
 },
 "nbformat": 4,
 "nbformat_minor": 2
}
