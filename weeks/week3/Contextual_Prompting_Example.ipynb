{
 "cells": [
  {
   "cell_type": "code",
   "execution_count": 1,
   "metadata": {},
   "outputs": [],
   "source": [
    "import os\n",
    "from langchain_google_vertexai import ChatVertexAI\n",
    "from langchain_core.messages import HumanMessage, SystemMessage\n",
    "from langchain_core.output_parsers import StrOutputParser\n",
    "from langchain_core.prompts import ChatPromptTemplate\n",
    "\n",
    "google_api_key=os.getenv(\"GOOGLE_API_KEY_LANGCHAIN\")\n",
    "\n",
    "model = ChatVertexAI(model=\"gemini-1.5-flash\",project=\"langchainproject-436415\")\n",
    "parser = StrOutputParser()\n",
    "context = []"
   ]
  },
  {
   "cell_type": "code",
   "execution_count": 2,
   "metadata": {},
   "outputs": [],
   "source": [
    "def get_response(query, context):\n",
    "    # Create the context prompt by joining the previous interactions\n",
    "    context_prompt = \"\\n\".join(context)\n",
    "    \n",
    "    # Prepare the full prompt with context\n",
    "    prompt_template = (\n",
    "        f\"Conversation History:\\n\\n{context_prompt}.\\n\\n Please answer the following question:\\n\\n{query}\"\n",
    "    )\n",
    "    \n",
    "    # Get response from the model\n",
    "    if context_prompt == \"\":\n",
    "        response = model.invoke(query)\n",
    "        #print(\"Prompt: \", query)\n",
    "    else:\n",
    "        response = model.invoke(prompt_template)\n",
    "        #print(\"Prompt: \", prompt_template)\n",
    "    \n",
    "    # Update context\n",
    "    context.append(f\"User: {query}\")\n",
    "    context.append(f\"AI: {response}\")\n",
    "    \n",
    "    return response"
   ]
  },
  {
   "cell_type": "code",
   "execution_count": 3,
   "metadata": {},
   "outputs": [
    {
     "name": "stdout",
     "output_type": "stream",
     "text": [
      "The capital of France is **Paris**. \n",
      "\n",
      "The population of Paris is approximately **2,140,526**. \n",
      "\n"
     ]
    }
   ],
   "source": [
    "response1 = get_response(\"What's the capital of France?\", context)\n",
    "print(parser.invoke(response1))\n",
    "\n",
    "response2 = get_response(\"What is the population of that city?\", context)\n",
    "print(parser.invoke(response2))\n"
   ]
  }
 ],
 "metadata": {
  "kernelspec": {
   "display_name": "my_env",
   "language": "python",
   "name": "python3"
  },
  "language_info": {
   "codemirror_mode": {
    "name": "ipython",
    "version": 3
   },
   "file_extension": ".py",
   "mimetype": "text/x-python",
   "name": "python",
   "nbconvert_exporter": "python",
   "pygments_lexer": "ipython3",
   "version": "3.12.6"
  }
 },
 "nbformat": 4,
 "nbformat_minor": 2
}
