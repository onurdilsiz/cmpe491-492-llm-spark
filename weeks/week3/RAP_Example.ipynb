{
 "cells": [
  {
   "cell_type": "code",
   "execution_count": 1,
   "metadata": {},
   "outputs": [],
   "source": [
    "import os\n",
    "from langchain_google_vertexai import ChatVertexAI\n",
    "from langchain_core.output_parsers import StrOutputParser\n",
    "\n",
    "google_api_key=os.getenv(\"GOOGLE_API_KEY_LANGCHAIN\")\n",
    "\n",
    "model = ChatVertexAI(model=\"gemini-1.5-flash\",project=\"langchainproject-436415\")\n",
    "parser = StrOutputParser()"
   ]
  },
  {
   "cell_type": "code",
   "execution_count": 2,
   "metadata": {},
   "outputs": [
    {
     "name": "stdout",
     "output_type": "stream",
     "text": [
      "Prompt:  Here is some information about Google Cloud: Google Cloud provides a suite of cloud computing services. Vertex AI is a managed machine learning platform on Google Cloud.\n",
      "\n",
      "User Query: How does Google Cloud support machine learning?\n",
      "Answer:\n"
     ]
    }
   ],
   "source": [
    "# Sample documents retrieved from a vector database\n",
    "retrieved_docs = [\n",
    "    {\"content\": \"Google Cloud provides a suite of cloud computing services.\"},\n",
    "    {\"content\": \"Vertex AI is a managed machine learning platform on Google Cloud.\"}\n",
    "]\n",
    "\n",
    "# Example query\n",
    "query = \"How does Google Cloud support machine learning?\"\n",
    "\n",
    "# Combine retrieved documents into a context\n",
    "context = \" \".join([doc[\"content\"] for doc in retrieved_docs])\n",
    "\n",
    "# Prepare the full prompt\n",
    "prompt = f\"Here is some information about Google Cloud: {context}\\n\\nUser Query: {query}\\nAnswer:\"\n",
    "print(\"Prompt: \",prompt)\n"
   ]
  },
  {
   "cell_type": "code",
   "execution_count": 3,
   "metadata": {},
   "outputs": [
    {
     "name": "stdout",
     "output_type": "stream",
     "text": [
      "Google Cloud offers a robust and comprehensive suite of services to support machine learning, with Vertex AI being a key component. Here's a breakdown:\n",
      "\n",
      "**Vertex AI: The Core of Machine Learning on Google Cloud**\n",
      "\n",
      "* **Managed Machine Learning Platform:** Vertex AI acts as a central hub for all your machine learning needs, offering tools for:\n",
      "    * **Data Preparation:** Cleaning, labeling, and organizing your data for optimal model training.\n",
      "    * **Model Training:** Building and training models using various algorithms, pre-trained models, and customizable configurations.\n",
      "    * **Model Deployment and Management:** Serving your trained models for predictions and managing their lifecycle, including monitoring, scaling, and updates.\n",
      "    * **Experiment Tracking and Optimization:** Tracking experiments, comparing model performance, and optimizing hyperparameters for better results.\n",
      "    * **AI Explainability:** Understanding how models make predictions, promoting transparency and trust.\n",
      "\n",
      "**Beyond Vertex AI: A Comprehensive Ecosystem**\n",
      "\n",
      "* **BigQuery ML:** A powerful tool for building and running machine learning models directly within BigQuery, Google's data warehouse. It allows you to leverage massive datasets for training without the need for data extraction.\n",
      "* **AI Platform Pipelines:** For streamlining and automating your machine learning workflows, from data preparation to model deployment.\n",
      "* **Pre-trained Models:** Access a vast library of pre-trained models covering various domains like natural language processing, computer vision, and more. These models can be fine-tuned for your specific use cases.\n",
      "* **Compute Engine:**  Use virtual machines with powerful GPUs and TPUs for demanding model training and inference tasks.\n",
      "* **Kubernetes Engine:** Deploy and manage your machine learning applications in a containerized environment for scalability and reliability.\n",
      "* **Cloud Storage:** Store your data securely and efficiently on Google's cloud infrastructure.\n",
      "* **Cloud Vision API, Natural Language API, and more:** These APIs provide pre-built machine learning capabilities for specific tasks like image analysis, text understanding, and translation.\n",
      "\n",
      "**Key Benefits of Google Cloud for Machine Learning:**\n",
      "\n",
      "* **Scalability:** Easily scale your machine learning resources up or down as needed.\n",
      "* **Cost-effectiveness:** Pay only for the resources you use, with flexible pricing options.\n",
      "* **Innovation:** Access the latest technologies and research from Google AI.\n",
      "* **Security and Privacy:** Benefit from Google's robust security measures and compliance certifications.\n",
      "* **Integrations:** Seamlessly integrate with other Google Cloud services for a unified experience.\n",
      "\n",
      "**In Conclusion:**\n",
      "\n",
      "Google Cloud offers a complete and powerful solution for machine learning, from data preparation to model deployment and management. Vertex AI serves as a central platform, while other services like BigQuery ML, AI Platform Pipelines, and pre-trained models provide additional capabilities. The platform's scalability, cost-effectiveness, and Google's AI expertise make it an attractive choice for businesses of all sizes.\n",
      "\n"
     ]
    }
   ],
   "source": [
    "# Generate the response\n",
    "response = model.invoke(prompt)\n",
    "\n",
    "print(parser.invoke(response))"
   ]
  }
 ],
 "metadata": {
  "kernelspec": {
   "display_name": "my_env",
   "language": "python",
   "name": "python3"
  },
  "language_info": {
   "codemirror_mode": {
    "name": "ipython",
    "version": 3
   },
   "file_extension": ".py",
   "mimetype": "text/x-python",
   "name": "python",
   "nbconvert_exporter": "python",
   "pygments_lexer": "ipython3",
   "version": "3.12.6"
  }
 },
 "nbformat": 4,
 "nbformat_minor": 2
}
