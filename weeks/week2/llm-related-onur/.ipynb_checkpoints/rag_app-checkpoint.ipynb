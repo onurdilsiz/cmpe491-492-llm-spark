{
 "cells": [
  {
   "cell_type": "code",
   "execution_count": 5,
   "id": "6cf016f4",
   "metadata": {},
   "outputs": [],
   "source": [
    "import os\n",
    "from dotenv import load_dotenv\n",
    "load_dotenv()\n",
    "\n",
    "\n",
    "google_api_key=os.getenv(\"GOOGLE_API_KEY\")\n",
    "langsmith=os.getenv(\"LANGCHAIN_API_KEY\")\n",
    "\n",
    "from langchain_google_genai import ChatGoogleGenerativeAI,GoogleGenerativeAIEmbeddings\n",
    "model = ChatGoogleGenerativeAI(model=\"gemini-1.5-flash\",\n",
    "                  google_api_key= google_api_key)\n",
    "\n",
    "\n",
    "# Set USER_AGENT environment variable\n",
    "os.environ['USER_AGENT'] = 'my-app/1.0'\n",
    "os.environ['LANGCHAIN_TRACING_V2'] = \"true\"\n",
    "\n"
   ]
  },
  {
   "cell_type": "code",
   "execution_count": null,
   "id": "76994e30",
   "metadata": {},
   "outputs": [],
   "source": []
  },
  {
   "cell_type": "code",
   "execution_count": 6,
   "id": "7a8a59b8",
   "metadata": {},
   "outputs": [],
   "source": [
    "import bs4\n",
    "from langchain import hub\n",
    "from langchain_chroma import Chroma\n",
    "from langchain_community.document_loaders import WebBaseLoader\n",
    "from langchain_core.output_parsers import StrOutputParser\n",
    "from langchain_core.runnables import RunnablePassthrough\n",
    "from langchain_text_splitters import RecursiveCharacterTextSplitter\n",
    "\n",
    "\n",
    "\n",
    "# Load, chunk and index the contents of the blog.\n",
    "loader = WebBaseLoader(\n",
    "    web_paths=(\"https://lilianweng.github.io/posts/2023-06-23-agent/\",),\n",
    "    bs_kwargs=dict(\n",
    "        parse_only=bs4.SoupStrainer(\n",
    "            class_=(\"post-content\", \"post-title\", \"post-header\")\n",
    "        )\n",
    "    ),\n",
    ")\n",
    "docs = loader.load()\n"
   ]
  },
  {
   "cell_type": "code",
   "execution_count": 7,
   "id": "fdc6908b",
   "metadata": {},
   "outputs": [],
   "source": [
    "\n",
    "text_splitter = RecursiveCharacterTextSplitter(chunk_size=1000, chunk_overlap=200)\n",
    "splits = text_splitter.split_documents(docs)\n",
    "vectorstore = Chroma.from_documents(documents=splits,  embedding=GoogleGenerativeAIEmbeddings(model=\"models/embedding-001\"))\n",
    "\n",
    "# Retrieve and generate using the relevant snippets of the blog.\n",
    "retriever = vectorstore.as_retriever()\n",
    "prompt = hub.pull(\"rlm/rag-prompt\")\n",
    "\n"
   ]
  },
  {
   "cell_type": "code",
   "execution_count": 8,
   "id": "145f8d58",
   "metadata": {},
   "outputs": [
    {
     "data": {
      "text/plain": [
       "'Task decomposition is the process of breaking down a complex task into smaller, simpler steps. It can be achieved through various methods, such as prompting a large language model (LLM) with specific instructions, using task-specific instructions, or even with human input. This process helps enhance model performance on complex tasks by allowing the model to utilize more computation to solve each smaller step. \\n'"
      ]
     },
     "execution_count": 8,
     "metadata": {},
     "output_type": "execute_result"
    }
   ],
   "source": [
    "def format_docs(docs):\n",
    "    return \"\\n\\n\".join(doc.page_content for doc in docs)\n",
    "\n",
    "\n",
    "rag_chain = (\n",
    "    {\"context\": retriever | format_docs, \"question\": RunnablePassthrough()}\n",
    "    | prompt\n",
    "    | model\n",
    "    | StrOutputParser()\n",
    ")\n",
    "\n",
    "rag_chain.invoke(\"What is Task Decomposition?\")"
   ]
  },
  {
   "cell_type": "code",
   "execution_count": 1,
   "id": "d14ab360",
   "metadata": {},
   "outputs": [
    {
     "name": "stdout",
     "output_type": "stream",
     "text": [
      "Requirement already satisfied: langsmith in c:\\users\\onurd\\anaconda3\\lib\\site-packages (0.1.131)\n",
      "Collecting langsmith\n",
      "  Downloading langsmith-0.1.132-py3-none-any.whl (294 kB)\n",
      "     ------------------------------------ 294.6/294.6 kB 505.9 kB/s eta 0:00:00\n",
      "Requirement already satisfied: httpx<1,>=0.23.0 in c:\\users\\onurd\\appdata\\roaming\\python\\python39\\site-packages (from langsmith) (0.27.0)\n",
      "Requirement already satisfied: requests-toolbelt<2.0.0,>=1.0.0 in c:\\users\\onurd\\anaconda3\\lib\\site-packages (from langsmith) (1.0.0)\n",
      "Requirement already satisfied: pydantic<3,>=1 in c:\\users\\onurd\\anaconda3\\lib\\site-packages (from langsmith) (2.9.2)\n",
      "Requirement already satisfied: orjson<4.0.0,>=3.9.14 in c:\\users\\onurd\\anaconda3\\lib\\site-packages (from langsmith) (3.10.7)\n",
      "Requirement already satisfied: requests<3,>=2 in c:\\users\\onurd\\anaconda3\\lib\\site-packages (from langsmith) (2.32.3)\n",
      "Requirement already satisfied: sniffio in c:\\users\\onurd\\anaconda3\\lib\\site-packages (from httpx<1,>=0.23.0->langsmith) (1.2.0)\n",
      "Requirement already satisfied: idna in c:\\users\\onurd\\anaconda3\\lib\\site-packages (from httpx<1,>=0.23.0->langsmith) (3.3)\n",
      "Requirement already satisfied: anyio in c:\\users\\onurd\\anaconda3\\lib\\site-packages (from httpx<1,>=0.23.0->langsmith) (3.5.0)\n",
      "Requirement already satisfied: httpcore==1.* in c:\\users\\onurd\\anaconda3\\lib\\site-packages (from httpx<1,>=0.23.0->langsmith) (1.0.5)\n",
      "Requirement already satisfied: certifi in c:\\users\\onurd\\anaconda3\\lib\\site-packages (from httpx<1,>=0.23.0->langsmith) (2023.7.22)\n",
      "Requirement already satisfied: h11<0.15,>=0.13 in c:\\users\\onurd\\anaconda3\\lib\\site-packages (from httpcore==1.*->httpx<1,>=0.23.0->langsmith) (0.14.0)\n",
      "Requirement already satisfied: typing-extensions>=4.6.1 in c:\\users\\onurd\\anaconda3\\lib\\site-packages (from pydantic<3,>=1->langsmith) (4.12.2)\n",
      "Requirement already satisfied: annotated-types>=0.6.0 in c:\\users\\onurd\\anaconda3\\lib\\site-packages (from pydantic<3,>=1->langsmith) (0.7.0)\n",
      "Requirement already satisfied: pydantic-core==2.23.4 in c:\\users\\onurd\\anaconda3\\lib\\site-packages (from pydantic<3,>=1->langsmith) (2.23.4)\n",
      "Requirement already satisfied: urllib3<3,>=1.21.1 in c:\\users\\onurd\\anaconda3\\lib\\site-packages (from requests<3,>=2->langsmith) (2.2.3)\n",
      "Requirement already satisfied: charset-normalizer<4,>=2 in c:\\users\\onurd\\anaconda3\\lib\\site-packages (from requests<3,>=2->langsmith) (2.0.4)\n",
      "Installing collected packages: langsmith\n",
      "  Attempting uninstall: langsmith\n",
      "    Found existing installation: langsmith 0.1.131\n",
      "    Uninstalling langsmith-0.1.131:\n",
      "      Successfully uninstalled langsmith-0.1.131\n",
      "Successfully installed langsmith-0.1.132\n",
      "Note: you may need to restart the kernel to use updated packages.\n"
     ]
    },
    {
     "name": "stderr",
     "output_type": "stream",
     "text": [
      "WARNING: Ignoring invalid distribution -rotobuf (c:\\users\\onurd\\appdata\\roaming\\python\\python39\\site-packages)\n",
      "WARNING: Ignoring invalid distribution - (c:\\users\\onurd\\appdata\\roaming\\python\\python39\\site-packages)\n",
      "WARNING: Ignoring invalid distribution -rotobuf (c:\\users\\onurd\\appdata\\roaming\\python\\python39\\site-packages)\n",
      "WARNING: Ignoring invalid distribution - (c:\\users\\onurd\\appdata\\roaming\\python\\python39\\site-packages)\n",
      "WARNING: Ignoring invalid distribution -rotobuf (c:\\users\\onurd\\appdata\\roaming\\python\\python39\\site-packages)\n",
      "WARNING: Ignoring invalid distribution - (c:\\users\\onurd\\appdata\\roaming\\python\\python39\\site-packages)\n",
      "    WARNING: Ignoring invalid distribution -rotobuf (c:\\users\\onurd\\appdata\\roaming\\python\\python39\\site-packages)\n",
      "    WARNING: Ignoring invalid distribution - (c:\\users\\onurd\\appdata\\roaming\\python\\python39\\site-packages)\n",
      "WARNING: Ignoring invalid distribution -rotobuf (c:\\users\\onurd\\anaconda3\\lib\\site-packages)\n",
      "WARNING: Ignoring invalid distribution - (c:\\users\\onurd\\anaconda3\\lib\\site-packages)\n",
      "WARNING: Ignoring invalid distribution -rotobuf (c:\\users\\onurd\\appdata\\roaming\\python\\python39\\site-packages)\n",
      "WARNING: Ignoring invalid distribution - (c:\\users\\onurd\\appdata\\roaming\\python\\python39\\site-packages)\n",
      "WARNING: Ignoring invalid distribution -rotobuf (c:\\users\\onurd\\appdata\\roaming\\python\\python39\\site-packages)\n",
      "WARNING: Ignoring invalid distribution - (c:\\users\\onurd\\appdata\\roaming\\python\\python39\\site-packages)\n",
      "WARNING: Ignoring invalid distribution -rotobuf (c:\\users\\onurd\\appdata\\roaming\\python\\python39\\site-packages)\n",
      "WARNING: Ignoring invalid distribution - (c:\\users\\onurd\\appdata\\roaming\\python\\python39\\site-packages)\n"
     ]
    }
   ],
   "source": []
  },
  {
   "cell_type": "code",
   "execution_count": null,
   "id": "d631b181",
   "metadata": {},
   "outputs": [],
   "source": []
  }
 ],
 "metadata": {
  "kernelspec": {
   "display_name": "Python 3 (ipykernel)",
   "language": "python",
   "name": "python3"
  },
  "language_info": {
   "codemirror_mode": {
    "name": "ipython",
    "version": 3
   },
   "file_extension": ".py",
   "mimetype": "text/x-python",
   "name": "python",
   "nbconvert_exporter": "python",
   "pygments_lexer": "ipython3",
   "version": "3.9.13"
  }
 },
 "nbformat": 4,
 "nbformat_minor": 5
}
