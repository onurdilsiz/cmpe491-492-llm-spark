{
 "cells": [
  {
   "cell_type": "code",
   "execution_count": 1,
   "metadata": {},
   "outputs": [],
   "source": [
    "import os\n",
    "from langchain_google_vertexai import ChatVertexAI\n",
    "from langchain_core.messages import HumanMessage, SystemMessage\n",
    "from langchain_core.output_parsers import StrOutputParser\n",
    "from langchain_core.prompts import ChatPromptTemplate\n",
    "\n",
    "google_api_key=os.getenv(\"GOOGLE_API_KEY_LANGCHAIN\")\n",
    "\n",
    "model = ChatVertexAI(model=\"gemini-1.5-flash\",project=\"langchainproject-436415\")"
   ]
  },
  {
   "cell_type": "code",
   "execution_count": 2,
   "metadata": {},
   "outputs": [],
   "source": [
    "system_template = \"Proceed the conversation in {language} in an educative way in {level} level and explain the mistakes briefly in {mainlang}:\"\n",
    "prompt_template = ChatPromptTemplate.from_messages(\n",
    "    [(\"system\", system_template), (\"user\", \"{text}\")]\n",
    ")\n",
    "parser = StrOutputParser()"
   ]
  },
  {
   "cell_type": "code",
   "execution_count": 3,
   "metadata": {},
   "outputs": [],
   "source": [
    "prompt = input(\"Enter your prompt: \")"
   ]
  },
  {
   "cell_type": "code",
   "execution_count": 4,
   "metadata": {},
   "outputs": [
    {
     "data": {
      "text/plain": [
       "[SystemMessage(content='Proceed the conversation in english in an educative way in A2 level and explain the mistakes briefly in turkish:', additional_kwargs={}, response_metadata={}),\n",
       " HumanMessage(content='Hello, my name Yusuf. I am 23 year old.', additional_kwargs={}, response_metadata={})]"
      ]
     },
     "execution_count": 4,
     "metadata": {},
     "output_type": "execute_result"
    }
   ],
   "source": [
    "result = prompt_template.invoke({\"language\": \"english\", \"text\": prompt, \"level\": \"A2\", \"mainlang\": \"turkish\"})\n",
    "result.to_messages()"
   ]
  },
  {
   "cell_type": "code",
   "execution_count": 5,
   "metadata": {},
   "outputs": [],
   "source": [
    "chain = prompt_template | model | parser"
   ]
  },
  {
   "cell_type": "code",
   "execution_count": 6,
   "metadata": {},
   "outputs": [],
   "source": [
    "res =  model.invoke(result)"
   ]
  },
  {
   "cell_type": "code",
   "execution_count": 7,
   "metadata": {},
   "outputs": [
    {
     "name": "stdout",
     "output_type": "stream",
     "text": [
      "Hello Yusuf! It's nice to meet you. \n",
      "\n",
      "**You made a small mistake in your sentence.** You said \"I am 23 year old.\"  The correct way to say it is \"I am 23 years old.\"  \n",
      "\n",
      "**Here's why:**\n",
      "\n",
      "* **\"Year old\"** is an adjective, meaning it describes a noun.\n",
      "* **\"Years\"** is the plural form of \"year\", and we need to use the plural form when talking about more than one year.\n",
      "\n",
      "So, **\"23 years old\"** means you are 23 years old. \n",
      "\n"
     ]
    }
   ],
   "source": [
    "print(parser.invoke(res))"
   ]
  }
 ],
 "metadata": {
  "kernelspec": {
   "display_name": "my_env",
   "language": "python",
   "name": "python3"
  },
  "language_info": {
   "codemirror_mode": {
    "name": "ipython",
    "version": 3
   },
   "file_extension": ".py",
   "mimetype": "text/x-python",
   "name": "python",
   "nbconvert_exporter": "python",
   "pygments_lexer": "ipython3",
   "version": "3.12.6"
  }
 },
 "nbformat": 4,
 "nbformat_minor": 2
}
